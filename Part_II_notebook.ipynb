{
 "cells": [
  {
   "cell_type": "markdown",
   "metadata": {
    "slideshow": {
     "slide_type": "slide"
    }
   },
   "source": [
    "# Part II - Effects of gender, and user type, on trip duration \n",
    "## by Peter Kihiko Maina"
   ]
  },
  {
   "cell_type": "markdown",
   "metadata": {
    "slideshow": {
     "slide_type": "slide"
    }
   },
   "source": [
    "\n",
    "## Investigation Overview\n",
    "\n",
    "> For the presentation, I primarily focused on the effects of gender and user type on trip duration. These variables are selected for presentations because they showed clear relationship without ambiguity. I will start by showing the distribution of the trip duration variable after log transformation. I will then introduce the categorical variables, one by one to get insights into the relationship between each of the categorical variable and trip duration. The relationship will be polished using box plots and clustered bar chart.  \n",
    "\n",
    "\n",
    "## Dataset Overview\n",
    "\n",
    "> The data consisted of trip duration and attributes of approximately 183,412 bike riders. The attributes included 16 features as well as other additional variables such as age, start day and end day. After removing observations with missing values, the data contained 174,952 bike riders. "
   ]
  },
  {
   "cell_type": "code",
   "execution_count": 14,
   "metadata": {
    "slideshow": {
     "slide_type": "skip"
    }
   },
   "outputs": [],
   "source": [
    "# import all packages and set plots to be embedded inline\n",
    "import numpy as np\n",
    "import pandas as pd\n",
    "import matplotlib.pyplot as plt\n",
    "import seaborn as sns\n",
    "\n",
    "%matplotlib inline\n",
    "\n",
    "# suppress warnings from final output\n",
    "import warnings\n",
    "warnings.simplefilter(\"ignore\")"
   ]
  },
  {
   "cell_type": "code",
   "execution_count": 15,
   "metadata": {
    "slideshow": {
     "slide_type": "skip"
    }
   },
   "outputs": [],
   "source": [
    "# load in the dataset into a pandas dataframe\n",
    "bike_data = pd.read_csv('201902-fordgobike-tripdata.csv')\n",
    "#make a copy of the data to avoid altering the original dataset\n",
    "bike = bike_data.copy()"
   ]
  },
  {
   "cell_type": "code",
   "execution_count": 16,
   "metadata": {
    "slideshow": {
     "slide_type": "skip"
    }
   },
   "outputs": [],
   "source": [
    "#drop rows with missing values \n",
    "bike.dropna(inplace=True, axis=0)\n",
    "\n",
    "#convert `bike_id`, `start_station_id`,  `end_station_id` into string data types\n",
    "bike['start_station_id'] =bike['start_station_id'].astype(str)\n",
    "bike['end_station_id'] =bike['end_station_id'].astype(str)\n",
    "bike['bike_id'] =bike['bike_id'].astype(str)\n",
    "#convert member birth year from float to int\n",
    "bike['member_birth_year']=bike['member_birth_year'].astype(int)\n",
    "#convert duration_sec to float\n",
    "bike['duration_sec']=bike['duration_sec'].astype(float)\n",
    "\n",
    "\n",
    "#convert start_time and end_time to data time format\n",
    "bike['start_time'] = pd.to_datetime(bike['start_time'])\n",
    "bike['end_time'] = pd.to_datetime(bike['end_time'])\n",
    "\n",
    "##convert start_time to hours, days, month and year\n",
    "bike['start_day'] = bike['start_time'].dt.day_name()\n",
    "bike['start_month'] = bike['start_time'].dt.month_name()\n",
    "#bike['start_year'] = bike['start_time'].dt.year\n",
    "##convert end_time to hours, days, month and year\n",
    "\n",
    "bike['end_day'] = bike['end_time'].dt.day_name()\n",
    "bike['end_month'] = bike['end_time'].dt.month_name()\n",
    "#bike['end_year'] = bike['end_time'].dt.year\n",
    "\n",
    "#calculate the age of the participants when this trip started. \n",
    "bike['age']=(2019-bike.member_birth_year)\n",
    "#it is most likely that this value should be 1978 instead of 1878. Thus, we replace the value with 1978\n",
    "for i in bike.member_birth_year.values:\n",
    "    if i ==1878:\n",
    "        bike.replace(i, 1978, inplace=True)"
   ]
  },
  {
   "cell_type": "code",
   "execution_count": 17,
   "metadata": {
    "slideshow": {
     "slide_type": "skip"
    }
   },
   "outputs": [],
   "source": [
    "## convert day, and months into ordered categorical types\n",
    "ordered_dict ={'start_day':['Monday', 'Tuesday', 'Wednesday', 'Thursday', 'Friday', 'Saturday'], \n",
    "               'end_day':['Monday', 'Tuesday', 'Wednesday', 'Thursday', 'Friday', 'Saturday'], \n",
    "                'start_month':['January', 'February', 'March'], \n",
    "                'end_month':['January', 'February', 'March']}\n",
    "for var in ordered_dict:\n",
    "    ordered_var=pd.api.types.CategoricalDtype(ordered = True, categories =ordered_dict[var])\n",
    "    bike[var]=bike[var].astype(ordered_var)"
   ]
  },
  {
   "cell_type": "markdown",
   "metadata": {
    "slideshow": {
     "slide_type": "slide"
    }
   },
   "source": [
    "## Distribution of Trip duration \n",
    "\n",
    "> The trip duration variables assumes a wide range of values ranging from 0 to 80,000 seconds. However, when plotted on a logarithmic scale, the distribution is unimodal with peaks between 200 and 1000 seconds.\n"
   ]
  },
  {
   "cell_type": "code",
   "execution_count": 18,
   "metadata": {
    "slideshow": {
     "slide_type": "skip"
    }
   },
   "outputs": [],
   "source": [
    "#create a function that gives the xlabel, ylabel and title to any graph\n",
    "def x_y_t(Xlab, Ylab, title):\n",
    "    plt.title(title)\n",
    "    plt.xlabel(Xlab)\n",
    "    plt.ylabel(Ylab)"
   ]
  },
  {
   "cell_type": "code",
   "execution_count": 19,
   "metadata": {
    "slideshow": {
     "slide_type": "subslide"
    }
   },
   "outputs": [
    {
     "data": {
      "image/png": "[encoded data removed]",
      "text/plain": [
       "<Figure size 720x360 with 1 Axes>"
      ]
     },
     "metadata": {
      "needs_background": "light"
     },
     "output_type": "display_data"
    }
   ],
   "source": [
    "\n",
    "bins= 10**np.arange(1, 5+0.1, 0.1)\n",
    "#increase figure size\n",
    "plt.figure(figsize=(10, 5))\n",
    "plt.hist(data=bike, x = 'duration_sec', bins=bins)\n",
    "plt.xscale('log')\n",
    "#add title, x label and y label\n",
    "x_y_t('duration (sec)',' Count', 'Distribution of Log-transformed trip duration')\n",
    "plt.xticks([50, 100, 250, 500, 2000, 3000, 6000],[50, 100,250, 500, '2k',  '3k',' 6k'])\n",
    "plt.show()"
   ]
  },
  {
   "cell_type": "markdown",
   "metadata": {
    "collapsed": true,
    "slideshow": {
     "slide_type": "slide"
    }
   },
   "source": [
    "## Gender vs. trip duration\n",
    "> To investigate the relationship between gender and trip duration, a box plot was plotted. The box plots showed that there were many outliers in the trip duration. Thus, to get a clear visual of the relationship, we limited the number of observations to 3000 seconds. The results showed that male bike riders completed the trip faster than female bike riders.\n"
   ]
  },
  {
   "cell_type": "code",
   "execution_count": 20,
   "metadata": {
    "slideshow": {
     "slide_type": "subslide"
    }
   },
   "outputs": [
    {
     "data": {
      "image/png": "[encoded data removed]",
      "text/plain": [
       "<Figure size 720x360 with 1 Axes>"
      ]
     },
     "metadata": {
      "needs_background": "light"
     },
     "output_type": "display_data"
    }
   ],
   "source": [
    "#increase figure size\n",
    "plt.figure(figsize=(10,5))\n",
    "#filter bike data to only records where gender is male or female\n",
    "gen_bike =bike[bike['member_gender'].isin(['Male', 'Female'])]\n",
    "#set the base color\n",
    "base_col=sns.color_palette()[0]\n",
    "#create a box plot\n",
    "sns.boxplot(gen_bike['member_gender'], gen_bike['duration_sec'], color=base_col)\n",
    "#set the limit to 3000 sec to reduce the effects of outliers\n",
    "plt.ylim(0, 3000)\n",
    "#add title, x label and y label\n",
    "x_y_t('Gender','Trip duration (sec)', 'Box plot of gender vs. trip duration')\n",
    "\n",
    "plt.show()"
   ]
  },
  {
   "cell_type": "markdown",
   "metadata": {
    "slideshow": {
     "slide_type": "slide"
    }
   },
   "source": [
    "## User type vs. trip duration \n",
    "\n",
    "> To gain more insights into the association between user type and trip duration, a box plot was plotted. There were many outliers on the upper part of the distribution and this was countered by limiting the duration to 3000 seconds when plotting. The box plot showed that subscribers completed the trip faster than customers. \n",
    "\n"
   ]
  },
  {
   "cell_type": "code",
   "execution_count": 21,
   "metadata": {
    "slideshow": {
     "slide_type": "subslide"
    }
   },
   "outputs": [
    {
     "data": {
      "image/png": "[encoded data removed]",
      "text/plain": [
       "<Figure size 720x360 with 1 Axes>"
      ]
     },
     "metadata": {
      "needs_background": "light"
     },
     "output_type": "display_data"
    }
   ],
   "source": [
    "#increase figure size\n",
    "plt.figure(figsize=(10,5))\n",
    "#set the base color\n",
    "base_col=sns.color_palette()[0]\n",
    "#create a box plot\n",
    "sns.boxplot(bike['user_type'], bike['duration_sec'], color=base_col)\n",
    "#add title, x label and y label\n",
    "x_y_t('user type','Trip duration (sec)', 'Box plot of user type vs. trip duration')\n",
    "\n",
    "#set y limit to 3000 sec to eliminate the effects of outliers \n",
    "plt.ylim(0, 3000)\n",
    "plt.show()"
   ]
  },
  {
   "cell_type": "markdown",
   "metadata": {
    "slideshow": {
     "slide_type": "slide"
    }
   },
   "source": [
    "## User type vs. Gender\n",
    ">To investigate the association between gender and user type, a clustered bar chart was plotted. The results showed that the number of males who were either customer or subscribers were more than females who were either customers or subscribers."
   ]
  },
  {
   "cell_type": "code",
   "execution_count": 22,
   "metadata": {
    "slideshow": {
     "slide_type": "subslide"
    }
   },
   "outputs": [
    {
     "data": {
      "image/png": "[encoded data removed]",
      "text/plain": [
       "<Figure size 720x360 with 1 Axes>"
      ]
     },
     "metadata": {
      "needs_background": "light"
     },
     "output_type": "display_data"
    }
   ],
   "source": [
    "#increase figure size\n",
    "plt.figure(figsize=(10,5))\n",
    "#plot a clustered bar chart of user type by gender\n",
    "sns.countplot(data=gen_bike, x ='user_type', hue='member_gender')\n",
    "#add title, x label and y label\n",
    "x_y_t('Gender','Frequency', 'Clustered Bar  chart of gender vs. user type')\n",
    "plt.show()"
   ]
  }
 ],
 "metadata": {
  "celltoolbar": "Slideshow",
  "kernelspec": {
   "display_name": "Python 3 (ipykernel)",
   "language": "python",
   "name": "python3"
  },
  "language_info": {
   "codemirror_mode": {
    "name": "ipython",
    "version": 3
   },
   "file_extension": ".py",
   "mimetype": "text/x-python",
   "name": "python",
   "nbconvert_exporter": "python",
   "pygments_lexer": "ipython3",
   "version": "3.9.12"
  }
 },
 "nbformat": 4,
 "nbformat_minor": 2
}
